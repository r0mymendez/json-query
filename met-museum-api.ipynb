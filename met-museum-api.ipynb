{
 "cells": [
  {
   "cell_type": "markdown",
   "metadata": {},
   "source": [
    "\n",
    "# Efficiently Querying JSON Data in Python: Exploring the MET Museum's Artworks\n",
    "\n",
    "While working on several projects that required processing complex and nested **JSON** data in **🐍Python**, I explored various methods for handling these structures. I eventually discovered the **JMESPath** library, which aims to simplify querying and filtering JSON structures.\n",
    "\n",
    "In this article, I demonstrate how to use the **JMESPath** library to query and filter **JSON** data. To find a suitable dataset for these examples, I thought about one of my favorite activities when I travel: visiting museums. The 🏛️ **Metropolitan Museum of Art (MET)**, one of the largest and most prestigious museums in the world, seemed like a perfect choice, as it offers an **API** that provides access to a vast collection of artwork. In this article, we’ll focus on the works of **Vincent van Gogh** and the collections of European painters to explore the potential of **JMESPath** for effectively handling JSON data.\n",
    "\n",
    "Additionally, I will showcase how to use **AWS CLI** to interact with the data stored in a 🪣 bucket that contains the downloaded **JSON files** from the MET API.\n",
    "\n",
    "\n",
    "![img-flow](img/flow.png)\n",
    "\n",
    "---\n",
    "\n",
    "## 🏛️ MET Museum of New York\n",
    "\n",
    "The **Metropolitan Museum of Art (MET)**, founded in `1870` and situated in Manhattan, 🗽 New York City, stands as one of the world’s most prestigious cultural institutions. Spanning over `186,000` square meters, the museum houses a diverse collection that encompasses more than 🖼️`5,000 years` of art history. Through its public API, the MET offers detailed insights into its `19 departments`, featuring an extensive array of works that range from ancient Egyptian, Greek, and Roman art to masterpieces by renowned artists such as Monet, Van Gogh, and Raphael.\n",
    "\n",
    "The following 📊 plot illustrates the distribution of artworks across these various departments, using data retrieved from the MET's public API.\n",
    "\n",
    "![img-met](img/met.png)\n",
    "\n",
    "---\n",
    "\n",
    "## 📄 Introduction to JMESPath\n",
    "\n",
    "### What is JMESPath?\n",
    "\n",
    "**JMESPath** is a query language for JSON that allows you to search, extract, and manipulate elements from a JSON document. This query language can be implemented with the Azure and AWS CLIs, where it simplifies filtering and transforming JSON data. \n",
    "\n",
    "![img-preview](img/preview_flow.png)\n",
    "\n",
    "\n",
    "---\n",
    "\n",
    "### Installation of JMESPath\n",
    "\n",
    "To get started, you need to install the **JMESPath** library. The version used in this tutorial is `'0.10.0'`. Simply run the following command:\n",
    "\n",
    "```bash\n",
    "pip install jmespath\n",
    "```\n",
    "\n",
    "---\n",
    "\n",
    "## 📄 JSON Data Structure\n",
    "\n",
    "JSON, or JavaScript Object Notation, is a lightweight data format commonly used for data interchange between a server and a client. Here are key elements of JSON structure:\n",
    "\n",
    "- **🏷️ Main Object:** The JSON object starts and ends with {}, encapsulating all data.\n",
    "- **🏷️ Key-Value Pair:** Each element is a key-value pair, where the key is a string, and the value can be any data type (e.g., string, number, boolean, array, object).\n",
    "- **🏷️ Nested JSON Object:** JSON objects can contain other objects within them, forming nested structures for complex data.\n",
    "- **🏷️ Array of Objects:** Arrays [ ] hold lists of values, including other objects, useful for grouping similar elements.\n",
    "\n",
    "\n",
    "![img-json](img/json.png)\n",
    "\n",
    "<br>\n",
    "\n",
    "---\n",
    "\n",
    "## 🏛️ MET Museum API: Exploring Van Gogh's Masterpieces\n",
    "The following example will focus on one of **Vincent van Gogh's**  most renowned works, \"Self-Portrait with a Straw Hat (obverse: The Potato Peeler).\" Painted in `1887`, this piece is part of the MET’s European Paintings collection and reflects Van Gogh's evolving artistic style, influenced by both Impressionism and Neo-Impressionism.\n",
    "\n",
    "\n",
    "\n",
    "<center>\n",
    "    <img src=\"https://collectionapi.metmuseum.org/api/collection/v1/iiif/436532/1671316/main-image\" alt=\"object_436532\" style=\"width:25%;\">\n",
    "    <figcaption style=\"font-size:12px;\">\n",
    "        <strong>Van Gogh, V. (1887)</strong>. Self-Portrait with a Straw Hat (obverse: The Potato Peeler) <br>\n",
    "        <a href=\"https://www.metmuseum.org/art/collection/search/436532\">Oil on canvas. The Metropolitan Museum of Art</a>\n",
    "    </figcaption>\n",
    "</center>\n",
    "\n",
    "<br>\n",
    "\n",
    "---\n",
    "\n",
    "> Next, we will make a request to the Met Museum API to retrieve data, but firstly we will define a function to handle the request, as shown in the following code.\n"
   ]
  },
  {
   "cell_type": "code",
   "execution_count": 3,
   "metadata": {},
   "outputs": [],
   "source": [
    "import requests,os,json\n",
    "import pandas as pd\n",
    "import jmespath\n",
    "from tqdm import tqdm\n",
    "import time\n",
    "import numpy as np\n",
    "import random\n",
    "import seaborn as sns\n",
    "import matplotlib.pyplot as plt\n",
    "\n",
    "# Set up the environment \n",
    "pd.set_option('display.max_columns', None)\n"
   ]
  },
  {
   "cell_type": "code",
   "execution_count": 4,
   "metadata": {},
   "outputs": [],
   "source": [
    "def read_json(filename,print_message = True):\n",
    "    try:\n",
    "        with open(filename, 'r') as json_file:\n",
    "            data = json.load(json_file)\n",
    "        if print_message:\n",
    "            print(f'✅ File read successfully from {filename}')\n",
    "        return data\n",
    "    except Exception as e:\n",
    "        print(\"❌ Error reading json file,\", e)\n",
    "        return {'response': 'error', 'message': str(e)}\n",
    "\n",
    "\n",
    "def write_json(data, filename,print_message = True):\n",
    "    try:\n",
    "        with open(filename, 'w') as json_file:\n",
    "            respponse = json.dump(data, json_file, indent=4)\n",
    "        if print_message:\n",
    "            print(f'✅ File written successfully in {filename}')\n",
    "        return respponse\n",
    "    except Exception as e:\n",
    "        print(\"❌ Error writing json file,\", e)\n",
    "        return {'response': 'error', 'message': e}\n",
    "    \n",
    "def get_met_museum_data(method:str,url:str = 'https://collectionapi.metmuseum.org/')->json:\n",
    "    # get the data from the Met Museum API\n",
    "    response = requests.get(f\"{url}{method}\")\n",
    "    if response.status_code == 200:\n",
    "        return response.json()\n",
    "    else:\n",
    "        return f\"❌ Error getting data from Met Museum API, status_code: {response.status_code}\""
   ]
  },
  {
   "cell_type": "code",
   "execution_count": 68,
   "metadata": {},
   "outputs": [
    {
     "data": {
      "text/plain": [
       "{'objectID': 436532,\n",
       " 'isHighlight': True,\n",
       " 'accessionNumber': '67.187.70a',\n",
       " 'accessionYear': '1967',\n",
       " 'isPublicDomain': True,\n",
       " 'primaryImage': 'https://images.metmuseum.org/CRDImages/ep/original/DT1502_cropped2.jpg',\n",
       " 'primaryImageSmall': 'https://images.metmuseum.org/CRDImages/ep/web-large/DT1502_cropped2.jpg',\n",
       " 'additionalImages': [],\n",
       " 'constituents': [{'constituentID': 161947,\n",
       "   'role': 'Artist',\n",
       "   'name': 'Vincent van Gogh',\n",
       "   'constituentULAN_URL': 'http://vocab.getty.edu/page/ulan/500115588',\n",
       "   'constituentWikidata_URL': 'https://www.wikidata.org/wiki/Q5582',\n",
       "   'gender': ''}],\n",
       " 'department': 'European Paintings',\n",
       " 'objectName': 'Painting',\n",
       " 'title': 'Self-Portrait with a Straw Hat (obverse: The Potato Peeler)',\n",
       " 'culture': '',\n",
       " 'period': '',\n",
       " 'dynasty': '',\n",
       " 'reign': '',\n",
       " 'portfolio': '',\n",
       " 'artistRole': 'Artist',\n",
       " 'artistPrefix': '',\n",
       " 'artistDisplayName': 'Vincent van Gogh',\n",
       " 'artistDisplayBio': 'Dutch, Zundert 1853–1890 Auvers-sur-Oise',\n",
       " 'artistSuffix': '',\n",
       " 'artistAlphaSort': 'Gogh, Vincent van',\n",
       " 'artistNationality': 'Dutch',\n",
       " 'artistBeginDate': '1853',\n",
       " 'artistEndDate': '1890',\n",
       " 'artistGender': '',\n",
       " 'artistWikidata_URL': 'https://www.wikidata.org/wiki/Q5582',\n",
       " 'artistULAN_URL': 'http://vocab.getty.edu/page/ulan/500115588',\n",
       " 'objectDate': '1887',\n",
       " 'objectBeginDate': 1887,\n",
       " 'objectEndDate': 1887,\n",
       " 'medium': 'Oil on canvas',\n",
       " 'dimensions': '16 x 12 1/2 in. (40.6 x 31.8 cm)',\n",
       " 'measurements': [{'elementName': 'Overall',\n",
       "   'elementDescription': None,\n",
       "   'elementMeasurements': {'Height': 40.6, 'Width': 31.8}},\n",
       "  {'elementName': 'Frame',\n",
       "   'elementDescription': None,\n",
       "   'elementMeasurements': {'Depth': 6.0325,\n",
       "    'Height': 52.7051,\n",
       "    'Width': 43.1801}}],\n",
       " 'creditLine': 'Bequest of Miss Adelaide Milton de Groot (1876-1967), 1967',\n",
       " 'geographyType': '',\n",
       " 'city': '',\n",
       " 'state': '',\n",
       " 'county': '',\n",
       " 'country': '',\n",
       " 'region': '',\n",
       " 'subregion': '',\n",
       " 'locale': '',\n",
       " 'locus': '',\n",
       " 'excavation': '',\n",
       " 'river': '',\n",
       " 'classification': 'Paintings',\n",
       " 'rightsAndReproduction': '',\n",
       " 'linkResource': '',\n",
       " 'metadataDate': '2024-10-03T04:53:53.567Z',\n",
       " 'repository': 'Metropolitan Museum of Art, New York, NY',\n",
       " 'objectURL': 'https://www.metmuseum.org/art/collection/search/436532',\n",
       " 'tags': [{'term': 'Men',\n",
       "   'AAT_URL': 'http://vocab.getty.edu/page/aat/300025928',\n",
       "   'Wikidata_URL': 'https://www.wikidata.org/wiki/Q8441'},\n",
       "  {'term': 'Self-portraits',\n",
       "   'AAT_URL': 'http://vocab.getty.edu/page/aat/300124534',\n",
       "   'Wikidata_URL': 'https://www.wikidata.org/wiki/Q192110'}],\n",
       " 'objectWikidata_URL': 'https://www.wikidata.org/wiki/Q19911684',\n",
       " 'isTimelineWork': True,\n",
       " 'GalleryNumber': '825'}"
      ]
     },
     "execution_count": 68,
     "metadata": {},
     "output_type": "execute_result"
    }
   ],
   "source": [
    "# > This request returns a dictionary that has 57 keys and 4 lists of nested dictionaries.\n",
    "\n",
    "URL = 'public/collection/v1/objects/436532'\n",
    "response = get_met_museum_data(method = URL)\n",
    "response"
   ]
  },
  {
   "cell_type": "markdown",
   "metadata": {},
   "source": [
    "### Selecting Keys from a JSON Object\n",
    "\n",
    "### Accessing Lists of Objects\n",
    "When working with JSON data, it’s common to encounter lists of objects, each containing multiple keys and values. Often, you may want to extract only specific pieces of information that are relevant to your analysis from these objects.\n",
    "\n",
    "Let’s examine an example using the 🏛️ MET Museum API’s response for object ID `436532`, which corresponds to 🖼️ **\"Self-Portrait with a Straw Hat (obverse: The Potato Peeler)\"**. Here, we’ll extract key information like the title, year, artist, and tags related to the artwork.\n"
   ]
  },
  {
   "cell_type": "code",
   "execution_count": 69,
   "metadata": {},
   "outputs": [
    {
     "data": {
      "text/plain": [
       "['Self-Portrait with a Straw Hat (obverse: The Potato Peeler)',\n",
       " 1887,\n",
       " 'Vincent van Gogh',\n",
       " ['Men', 'Self-portraits']]"
      ]
     },
     "execution_count": 69,
     "metadata": {},
     "output_type": "execute_result"
    }
   ],
   "source": [
    "# Get the following keys from the JSON response obtained from the Met Museum API for object ID 436532: title, year, artist, and tags\n",
    "\n",
    "# Define the keys to be extracted\n",
    "query = \"[title,objectBeginDate,constituents[0].name,tags[*].term]\"\n",
    "\n",
    "# Use JMESPath to search and extract the selected keys\n",
    "result = jmespath.search(query, response)\n",
    "\n",
    "# Display the result\n",
    "result"
   ]
  },
  {
   "cell_type": "markdown",
   "metadata": {},
   "source": [
    "In this example, we are selecting the following keys from the JSON response:\n",
    "\n",
    "- **🖼️ Title**: The title of the artwork.\n",
    "- **📅 Year**: The year the artwork was created (`objectBeginDate`).\n",
    "- **👨‍🎨 Artist**: The name of the artist (`constituents[0].name`).\n",
    "- **🏷️ Tags**: Terms related to the artwork (`tags[*].term`).\n",
    "\n",
    "The resulting `result` variable will contain only the specified fields, allowing us to focus on the desired information without needing to manually parse through the entire JSON object.\n",
    "\n",
    "---\n",
    "\n",
    "#### Customizing the Output with Key Aliases\n",
    "In some cases, you may want to rename keys or adjust the output structure for clarity. With **JMESPath**, you can create aliases for keys to produce a more descriptive result, especially useful when dealing with nested data or similarly named fields.\n",
    "\n",
    "We can extend the previous example by assigning aliases to each field, making the output more readable and aligned with our analysis needs:\n",
    "\n"
   ]
  },
  {
   "cell_type": "code",
   "execution_count": 70,
   "metadata": {},
   "outputs": [
    {
     "data": {
      "text/plain": [
       "{'title_name': 'Self-Portrait with a Straw Hat (obverse: The Potato Peeler)',\n",
       " 'date': 1887,\n",
       " 'artist_name': 'Vincent van Gogh',\n",
       " 'tags_name': ['Men', 'Self-portraits']}"
      ]
     },
     "execution_count": 70,
     "metadata": {},
     "output_type": "execute_result"
    }
   ],
   "source": [
    "query = \"\"\"{ \n",
    "      title_name: title,\n",
    "      date: objectBeginDate,\n",
    "      artist_name: constituents[0].name,\n",
    "      tags_name: tags[*].term\n",
    "}\"\"\"\n",
    "result = jmespath.search(query, response)\n",
    "result "
   ]
  },
  {
   "cell_type": "markdown",
   "metadata": {},
   "source": [
    "#### Some Other Queries We Can Make\n",
    "\n",
    "**To retrieve a list of element measurements from the  🖼️ artworks.**\n",
    "> In this query, [*] allows us to iterate over each object in the measurements list, enabling the extraction of the elementMeasurements field from each object."
   ]
  },
  {
   "cell_type": "code",
   "execution_count": 71,
   "metadata": {},
   "outputs": [
    {
     "data": {
      "text/plain": [
       "[{'Height': 40.6, 'Width': 31.8},\n",
       " {'Depth': 6.0325, 'Height': 52.7051, 'Width': 43.1801}]"
      ]
     },
     "execution_count": 71,
     "metadata": {},
     "output_type": "execute_result"
    }
   ],
   "source": [
    "# Retrieve the 'elementMeasurements' field from each object in the 'measurements' list\n",
    "query = \"measurements[*].elementMeasurements\"\n",
    "result = jmespath.search(query, response)\n",
    "result "
   ]
  },
  {
   "cell_type": "markdown",
   "metadata": {},
   "source": [
    "**The following query returns detailed measurements of each artwork**\n",
    "> Here, [] allows us to navigate through the array of measurements, while .* retrieves all elements from the nested elementMeasurements, providing a comprehensive output of measurement details."
   ]
  },
  {
   "cell_type": "code",
   "execution_count": 72,
   "metadata": {},
   "outputs": [
    {
     "data": {
      "text/plain": [
       "[[40.6, 31.8], [6.0325, 52.7051, 43.1801]]"
      ]
     },
     "execution_count": 72,
     "metadata": {},
     "output_type": "execute_result"
    }
   ],
   "source": [
    "# Example (assuming nested structure):\n",
    "query = \"measurements[].elementMeasurements[].*\"\n",
    "result = jmespath.search(query, response)\n",
    "result "
   ]
  },
  {
   "cell_type": "markdown",
   "metadata": {},
   "source": [
    "## 🖼️ Processing Van Gogh's Artworks\n",
    "In this section, we will retrieve and process data for a collection of Van Gogh's artworks using their unique IDs. Below is a list of object IDs corresponding to various paintings by Vincent van Gogh available through the **MET Museum API**."
   ]
  },
  {
   "cell_type": "code",
   "execution_count": 73,
   "metadata": {},
   "outputs": [
    {
     "name": "stderr",
     "output_type": "stream",
     "text": [
      "100%|██████████| 28/28 [00:17<00:00,  1.61it/s]\n"
     ]
    }
   ],
   "source": [
    "ids_objects = [335538, 436527, 436530, 436532, 436529, 436525, 436534, 336318, 436526,437998, 436533, 436531, 436535, 849056, 335537, 336327, 849055, 437980, 436528, 459193, 437984, 335536, 459123, 436524, 436536, 438722, 849054, 849052]\n",
    "\n",
    "response_vg_art = []\n",
    "\n",
    "for id_object in tqdm(ids_objects):\n",
    "    response = get_met_museum_data(method = f'public/collection/v1/objects/{id_object}')\n",
    "    response_vg_art.append(response)"
   ]
  },
  {
   "cell_type": "markdown",
   "metadata": {},
   "source": [
    "### Use Cases\n",
    "Next, we will discuss a series of use cases that will allow us to implement code using **JMESPath** and perform queries on Van Gogh artworks retrieved from the API data.\n",
    "\n",
    "![img-use-cases](img/use-cases.png)\n",
    "\n",
    "\n",
    "---\n",
    "\n",
    "#### 🎨 Case 1: Artworks from 1888 onwards\n",
    "From `1888` onwards, when **Van Gogh** moved to the south of France, his artistic production increased dramatically. During this period, he created some of his most iconic works, such as **\"Sunflowers\"**, **\"The Yellow House\"** and **\"The Starry Night\"**. Let's take a look at his works created from this year onwards.\n"
   ]
  },
  {
   "cell_type": "code",
   "execution_count": 74,
   "metadata": {},
   "outputs": [
    {
     "data": {
      "text/plain": [
       "[['The Flowering Orchard', 1888],\n",
       " ['Oleanders', 1888],\n",
       " [\"L'Arlésienne: Madame Joseph-Michel Ginoux (Marie Julien, 1848–1911)\", 1889],\n",
       " ['Bouquet of Flowers in a Vase', 1890],\n",
       " ['Roses', 1890],\n",
       " ['Street in Saintes-Maries-de-la-Mer', 1888],\n",
       " ['First Steps, after Millet', 1890],\n",
       " ['Olive Trees', 1890],\n",
       " ['Shoes', 1888],\n",
       " ['Wheat Field with Cypresses', 1889],\n",
       " ['Portrait of Doctor Gachet or Man with a Pipe', 1890],\n",
       " ['Wheat Field', 1888],\n",
       " ['Corridor in the Asylum', 1889],\n",
       " ['Cypresses', 1889],\n",
       " ['Irises', 1890],\n",
       " ['La Berceuse (Woman Rocking a Cradle; Augustine-Alix Pellicot Roulin, 1851–1930)',\n",
       "  1889],\n",
       " ['The Zouave', 1888],\n",
       " ['Madame Roulin and Her Baby', 1888],\n",
       " ['Women Picking Olives', 1889]]"
      ]
     },
     "execution_count": 74,
     "metadata": {},
     "output_type": "execute_result"
    }
   ],
   "source": [
    "query = \"[?objectEndDate>=`1888`].[title, objectEndDate]\"\n",
    "result = jmespath.search(query, response_vg_art)\n",
    "result"
   ]
  },
  {
   "cell_type": "markdown",
   "metadata": {},
   "source": [
    "#### 🎨 Case 2: Sorting Van Gogh's Works by Year\n",
    "If we want to display Van Gogh's works created from `1888` onwards, sorted by the year of creation, we can use the sort_by function in **JMESPath**. This function allows us to sort the results based on a specific field.\n"
   ]
  },
  {
   "cell_type": "code",
   "execution_count": 75,
   "metadata": {},
   "outputs": [
    {
     "data": {
      "text/plain": [
       "[['The Flowering Orchard', 1888],\n",
       " ['Oleanders', 1888],\n",
       " ['Street in Saintes-Maries-de-la-Mer', 1888],\n",
       " ['Shoes', 1888],\n",
       " ['Wheat Field', 1888],\n",
       " ['The Zouave', 1888],\n",
       " ['Madame Roulin and Her Baby', 1888],\n",
       " [\"L'Arlésienne: Madame Joseph-Michel Ginoux (Marie Julien, 1848–1911)\", 1889],\n",
       " ['Wheat Field with Cypresses', 1889],\n",
       " ['Corridor in the Asylum', 1889],\n",
       " ['Cypresses', 1889],\n",
       " ['La Berceuse (Woman Rocking a Cradle; Augustine-Alix Pellicot Roulin, 1851–1930)',\n",
       "  1889],\n",
       " ['Women Picking Olives', 1889],\n",
       " ['Bouquet of Flowers in a Vase', 1890],\n",
       " ['Roses', 1890],\n",
       " ['First Steps, after Millet', 1890],\n",
       " ['Olive Trees', 1890],\n",
       " ['Portrait of Doctor Gachet or Man with a Pipe', 1890],\n",
       " ['Irises', 1890]]"
      ]
     },
     "execution_count": 75,
     "metadata": {},
     "output_type": "execute_result"
    }
   ],
   "source": [
    "# JMESPath query to filter and sort artworks created in or after 1888 by year\n",
    "query = \"sort_by([?objectEndDate >= `1888`], &objectEndDate)[].[title, objectEndDate]\"\n",
    "\n",
    "# Applying the query to get sorted results\n",
    "result = jmespath.search(query, response_vg_art)\n",
    "\n",
    "# Display the sorted results\n",
    "result"
   ]
  },
  {
   "cell_type": "markdown",
   "metadata": {},
   "source": [
    "**Explanation:**\n",
    "- **`sort_by`**: This function sorts the list of artworks based on the specified key, in this case, `objectEndDate`. The `&` symbol is used to indicate the sorting key.\n",
    "- **`[?objectEndDate >= `1888`]`**: This part filters the artworks to include only those created in or after `1888`.\n",
    "- **`[].[title, objectEndDate]`**: Finally, this projects the results to show only the **title** and **year** of each artwork.\n",
    "\n",
    "By using this query, we can efficiently retrieve and display Van Gogh's works from the specified period in chronological order, allowing for better analysis and understanding of his artistic output during these significant years.\n"
   ]
  },
  {
   "cell_type": "markdown",
   "metadata": {},
   "source": [
    "#### 🎨 Case 3: Identifying Important Works by Vincent van Gogh\n",
    "\n",
    "Let's imagine that we are digital curators at the **Metropolitan Museum of Art (MET)** and we have been tasked with identifying the most important works by Van Gogh for marketing campaigns and educational programs. To do so, we will use the isHighlight key from the artwork data.\n",
    "\n",
    "The `isHighlight` field indicates whether a work is considered one of the most significant pieces in the collection. When the field is set to true, it means that the work is highlighted for its importance.\n",
    "\n",
    "> **Note:** When querying for boolean values in JMESPath, we need to use lowercase `true` or `false` to ensure the query functions correctly.\n",
    "\n",
    "To find the highlighted works, we can use the following query:"
   ]
  },
  {
   "cell_type": "code",
   "execution_count": 76,
   "metadata": {},
   "outputs": [
    {
     "data": {
      "text/plain": [
       "[['Self-Portrait with a Straw Hat (obverse: The Potato Peeler)', 1887],\n",
       " ['Wheat Field with Cypresses', 1889],\n",
       " ['Corridor in the Asylum', 1889],\n",
       " ['Irises', 1890],\n",
       " ['Road in Etten', 1881],\n",
       " ['Madame Roulin and Her Baby', 1888]]"
      ]
     },
     "execution_count": 76,
     "metadata": {},
     "output_type": "execute_result"
    }
   ],
   "source": [
    "# JMESPath query to filter and retrieve important Van Gogh artworks\n",
    "query = \"[?isHighlight == `true`].[title, objectEndDate]\"\n",
    "\n",
    "# Applying the query to the collected response data\n",
    "result = jmespath.search(query, response_vg_art)\n",
    "\n",
    "# Display the identified important artworks\n",
    "result"
   ]
  },
  {
   "cell_type": "markdown",
   "metadata": {},
   "source": [
    "**Explanation:**\n",
    "- **`[?isHighlight == `true`]`**: This filter retrieves only the artworks where `isHighlight` is `true`, meaning they are considered significant.\n",
    "- **`.[title, objectEndDate]`**: This part projects the results to show only the **title** and **year** of each highlighted artwork.\n",
    "\n",
    "---\n",
    "\n",
    "#### 🎨 Case 4: Filtering by Date and Classification\n",
    "In this case, we will analyze the works of Vincent van Gogh to understand how his themes and styles evolved before 1886. We seek to create a list of works that meet the following conditions:\n",
    "\n",
    "* **📅 Creation Date:** Works created before 1886.\n",
    "* **🏷️ Classification:** Exclude works classified as \"Paintings.\"\n",
    "\n",
    "During his early years, Van Gogh's artistic focus encompassed diverse forms of expression, including works in media such as drawing, printmaking, and watercolor. \n",
    "Also, the following bar chart represents the various tags associated with Van Gogh's works from this period and allows us to explore the themes prevalent in his art, highlighting how they changed over time."
   ]
  },
  {
   "cell_type": "code",
   "execution_count": 77,
   "metadata": {},
   "outputs": [
    {
     "name": "stderr",
     "output_type": "stream",
     "text": [
      "/Users/rominamendez/anaconda3/lib/python3.11/site-packages/seaborn/axisgrid.py:118: UserWarning: The figure layout has changed to tight\n",
      "  self._figure.tight_layout(*args, **kwargs)\n"
     ]
    },
    {
     "data": {
      "text/plain": [
       "<Figure size 1200x500 with 0 Axes>"
      ]
     },
     "metadata": {},
     "output_type": "display_data"
    },
    {
     "data": {
      "image/png": "[encoded data removed]",
      "text/plain": [
       "<Figure size 1500x500 with 3 Axes>"
      ]
     },
     "metadata": {},
     "output_type": "display_data"
    }
   ],
   "source": [
    "query = \"[?(objectEndDate<=`1886`) && (classification!='painting')].{title: title, year: objectEndDate, tags: tags[*].term}\"\n",
    "result = jmespath.search(query, response_vg_art)\n",
    "data = pd.json_normalize(result)\n",
    "data = data.explode('tags')\n",
    "\n",
    "plt.figure(figsize=(12,5))\n",
    "sns.catplot(data = data.groupby(['year','tags'],as_index=False)['title'].count(), \n",
    "            y = 'tags',\n",
    "            x = 'title',\n",
    "            color = '#6387FD', \n",
    "            edgecolor='black',\n",
    "            kind='bar', col='year')\n",
    "plt.show()"
   ]
  },
  {
   "cell_type": "markdown",
   "metadata": {},
   "source": [
    "#### 🎨 Case 5: Filtered by Date and Technique\n",
    "\n",
    "In this case, we will analyze the techniques used by Van Gogh, including the combination of different materials and styles, which are key aspects of his artistic evolution.\n",
    "\n",
    "**Conditions:**\n",
    "* **📅 Creation Date:** Works created before 1886 or those made with ink (the medium contains \"ink\").\n",
    "* **🏷️ Tags:** In addition, the selected works must have tags related to women to observe the influence of such representations on his art.\n",
    "\n",
    "> The objective is to explore how the techniques used by Van Gogh and the themes related to women influenced his style and artistic development.\n"
   ]
  },
  {
   "cell_type": "code",
   "execution_count": 78,
   "metadata": {},
   "outputs": [
    {
     "data": {
      "text/html": [
       "<div>\n",
       "<style scoped>\n",
       "    .dataframe tbody tr th:only-of-type {\n",
       "        vertical-align: middle;\n",
       "    }\n",
       "\n",
       "    .dataframe tbody tr th {\n",
       "        vertical-align: top;\n",
       "    }\n",
       "\n",
       "    .dataframe thead th {\n",
       "        text-align: right;\n",
       "    }\n",
       "</style>\n",
       "<table border=\"1\" class=\"dataframe\">\n",
       "  <thead>\n",
       "    <tr style=\"text-align: right;\">\n",
       "      <th></th>\n",
       "      <th>title</th>\n",
       "      <th>year</th>\n",
       "      <th>medium</th>\n",
       "      <th>tags</th>\n",
       "    </tr>\n",
       "  </thead>\n",
       "  <tbody>\n",
       "    <tr>\n",
       "      <th>0</th>\n",
       "      <td>Peasant Woman Cooking by a Fireplace</td>\n",
       "      <td>1885</td>\n",
       "      <td>Oil on canvas</td>\n",
       "      <td>[Food, Cooking, Fireplaces, Women]</td>\n",
       "    </tr>\n",
       "    <tr>\n",
       "      <th>1</th>\n",
       "      <td>The Potato Peeler (reverse: Self-Portrait with...</td>\n",
       "      <td>1885</td>\n",
       "      <td>Oil on canvas</td>\n",
       "      <td>[Women]</td>\n",
       "    </tr>\n",
       "  </tbody>\n",
       "</table>\n",
       "</div>"
      ],
      "text/plain": [
       "                                               title  year         medium  \\\n",
       "0               Peasant Woman Cooking by a Fireplace  1885  Oil on canvas   \n",
       "1  The Potato Peeler (reverse: Self-Portrait with...  1885  Oil on canvas   \n",
       "\n",
       "                                 tags  \n",
       "0  [Food, Cooking, Fireplaces, Women]  \n",
       "1                             [Women]  "
      ]
     },
     "execution_count": 78,
     "metadata": {},
     "output_type": "execute_result"
    }
   ],
   "source": [
    "query = \"\"\"[?(\n",
    "               ( objectBeginDate <= `1886` || \n",
    "                contains(not_null(medium, ''), 'ink'))   &&\n",
    "                contains(not_null(tags[*].term, ''), 'Women')\n",
    "            )]\n",
    "                .{title: title, year: objectEndDate, medium: medium, tags: tags[*].term}\"\"\"\n",
    "\n",
    "result = jmespath.search(query, response_vg_art)\n",
    "\n",
    "data = pd.json_normalize(result)\n",
    "data"
   ]
  },
  {
   "cell_type": "markdown",
   "metadata": {},
   "source": [
    "#### 🎨 Case 6: Using Custom Functions in JMESPath\n",
    "\n",
    "In this case, we have a large dataset from the museum's \"Drawings and Prints\" department, containing over 100,000 works of art, many of which belong to Vincent Van Gogh. To manipulate this data more effectively, we implemented two custom functions:\n",
    "\n",
    "* **🛠️ Conversion to Lowercase (_func_to_lower)**: This function allows us to convert any string of text to lowercase, which is useful for standardizing comparisons between values.\n",
    "* **🛠️ Search with Regular Expressions (_func_contains_regex)**: With this function, we can search for patterns within text strings using regular expressions. This is particularly helpful when we want to identify artworks that contain specific terms or patterns in their descriptions, titles, or tags.\n",
    "\n",
    "> **JMESPath** is a powerful query language for JSON, but it has certain limitations in its native functions. Therefore, the following code will provide a good way to implement these functionalities when needed."
   ]
  },
  {
   "cell_type": "code",
   "execution_count": 79,
   "metadata": {},
   "outputs": [],
   "source": [
    "import re\n",
    "import jmespath\n",
    "from jmespath import functions\n",
    "\n",
    "class CustomFunctions(functions.Functions):\n",
    "    # Function to convert text to lowercase\n",
    "    @functions.signature({'types': ['string']})\n",
    "    def _func_to_lower(self, s):\n",
    "        if isinstance(s, str):\n",
    "            return s.lower()\n",
    "        raise TypeError(\"Expected a string argument\")\n",
    "\n",
    "    # Function to search with regular expressions\n",
    "    @functions.signature({'types': ['array']})\n",
    "    def _func_contains_regex(self, args):\n",
    "        if len(args) != 2:\n",
    "            raise TypeError(\"Expected a list with exactly 2 items: [string, pattern]\")\n",
    "        s, str_pattern = args\n",
    "        if isinstance(s, str) and isinstance(str_pattern, str):\n",
    "            pattern = re.compile(str_pattern, re.IGNORECASE)\n",
    "            return bool(pattern.search(s))\n",
    "        raise TypeError(\"Expected two string arguments in the list\")\n",
    "\n",
    "# Registering custom functions\n",
    "options = jmespath.Options(custom_functions=CustomFunctions())"
   ]
  },
  {
   "cell_type": "markdown",
   "metadata": {},
   "source": [
    "> After registering the custom functions, we will query the dataset. I previously downloaded 📄**JSON files** for each object I queried from the API and created individual 📄**JSON files**. Subsequently, I will select 1,000 random files, all of which come from the \"Drawings and Prints\" department."
   ]
  },
  {
   "cell_type": "code",
   "execution_count": 82,
   "metadata": {},
   "outputs": [
    {
     "name": "stderr",
     "output_type": "stream",
     "text": [
      "100%|██████████| 1000/1000 [00:06<00:00, 161.57it/s]\n"
     ]
    }
   ],
   "source": [
    "num_files = 1000\n",
    "# Get the list of files in the directory\n",
    "random.seed(123)\n",
    "random_files = random.sample(os.listdir('data/files-objects'), num_files)\n",
    "\n",
    "# Read the data from the files\n",
    "data_random_files = []\n",
    "for file in tqdm(random_files):\n",
    "    with open(f'data/files-objects/{file}') as f:\n",
    "        data_tmp = json.load(f)\n",
    "    data_random_files.append(data_tmp)"
   ]
  },
  {
   "cell_type": "markdown",
   "metadata": {},
   "source": [
    "With the data loaded, we can now use a **JMESPath** query to find artworks related to women by applying the custom to_lower function within the query:"
   ]
  },
  {
   "cell_type": "code",
   "execution_count": 83,
   "metadata": {},
   "outputs": [
    {
     "data": {
      "text/html": [
       "<div>\n",
       "<style scoped>\n",
       "    .dataframe tbody tr th:only-of-type {\n",
       "        vertical-align: middle;\n",
       "    }\n",
       "\n",
       "    .dataframe tbody tr th {\n",
       "        vertical-align: top;\n",
       "    }\n",
       "\n",
       "    .dataframe thead th {\n",
       "        text-align: right;\n",
       "    }\n",
       "</style>\n",
       "<table border=\"1\" class=\"dataframe\">\n",
       "  <thead>\n",
       "    <tr style=\"text-align: right;\">\n",
       "      <th></th>\n",
       "      <th>title</th>\n",
       "      <th>year</th>\n",
       "      <th>medium</th>\n",
       "      <th>artist_name</th>\n",
       "      <th>tags</th>\n",
       "    </tr>\n",
       "  </thead>\n",
       "  <tbody>\n",
       "    <tr>\n",
       "      <th>0</th>\n",
       "      <td>Lamentation over the body of Christ, who rests...</td>\n",
       "      <td>1786</td>\n",
       "      <td>Etching</td>\n",
       "      <td>Baron Dominique Vivant Denon</td>\n",
       "      <td>None</td>\n",
       "    </tr>\n",
       "    <tr>\n",
       "      <th>1</th>\n",
       "      <td>Swiss Dancer, from the Dancing Women series (N...</td>\n",
       "      <td>1889</td>\n",
       "      <td>Commercial color lithograph</td>\n",
       "      <td>William S. Kimball &amp; Company</td>\n",
       "      <td>[Dance, Women, Dancers]</td>\n",
       "    </tr>\n",
       "    <tr>\n",
       "      <th>2</th>\n",
       "      <td>From the series Beautiful Women (N257) issued ...</td>\n",
       "      <td>1889</td>\n",
       "      <td>Commercial color lithograph</td>\n",
       "      <td>P. Lorillard Company</td>\n",
       "      <td>None</td>\n",
       "    </tr>\n",
       "    <tr>\n",
       "      <th>3</th>\n",
       "      <td>Broadside with 48 squares depicting scenes fro...</td>\n",
       "      <td>1855</td>\n",
       "      <td>Etching (photo-relief?)</td>\n",
       "      <td>Anonymous, Spanish, 19th century</td>\n",
       "      <td>None</td>\n",
       "    </tr>\n",
       "  </tbody>\n",
       "</table>\n",
       "</div>"
      ],
      "text/plain": [
       "                                               title  year  \\\n",
       "0  Lamentation over the body of Christ, who rests...  1786   \n",
       "1  Swiss Dancer, from the Dancing Women series (N...  1889   \n",
       "2  From the series Beautiful Women (N257) issued ...  1889   \n",
       "3  Broadside with 48 squares depicting scenes fro...  1855   \n",
       "\n",
       "                        medium                       artist_name  \\\n",
       "0                      Etching      Baron Dominique Vivant Denon   \n",
       "1  Commercial color lithograph      William S. Kimball & Company   \n",
       "2  Commercial color lithograph              P. Lorillard Company   \n",
       "3      Etching (photo-relief?)  Anonymous, Spanish, 19th century   \n",
       "\n",
       "                      tags  \n",
       "0                     None  \n",
       "1  [Dance, Women, Dancers]  \n",
       "2                     None  \n",
       "3                     None  "
      ]
     },
     "execution_count": 83,
     "metadata": {},
     "output_type": "execute_result"
    }
   ],
   "source": [
    "query = \"\"\"[?( contains(to_lower(title), 'women'))] .{title: title, year: objectEndDate, medium: medium,artist_name: artistDisplayName, tags: tags[*].term}\"\"\"\n",
    "result = jmespath.search(query, data_random_files, options=options)\n",
    "pd.json_normalize(result)"
   ]
  },
  {
   "cell_type": "markdown",
   "metadata": {},
   "source": [
    ">The output shows a list of works with titles that include the term \"women,\" providing insights into Van Gogh's representation of women in his art.\n",
    "\n",
    "---\n",
    "\n",
    "#### 🎨 Case 7: Importing and Querying a Large Number of JSON Files\n",
    "\n",
    "In the previous case, we defined a sample of `1,000` randomly selected entries. Now, we will conduct a performance test by running a query across all `176,000` JSON entries in the \"Drawings and Prints\" department.\n",
    "\n",
    "For this scenario, we’ll reapply Use Cases 5 and 6, which were initially tailored for Vincent Van Gogh’s artworks. However, this time we’ll execute the same queries on the entire dataset, expanding our analysis to encompass all available artworks.\n"
   ]
  },
  {
   "cell_type": "code",
   "execution_count": 114,
   "metadata": {},
   "outputs": [
    {
     "name": "stderr",
     "output_type": "stream",
     "text": [
      "100%|██████████| 196982/196982 [18:42<00:00, 175.42it/s]\n"
     ]
    }
   ],
   "source": [
    "# Read the data from the files\n",
    "data_random_files = []\n",
    "path  = 'data/files-objects'\n",
    "files  = os.listdir(path)\n",
    "for file in tqdm(files):\n",
    "    with open(f'{path}/{file}') as f:\n",
    "        data_tmp = json.load(f)\n",
    "    data_random_files.append(data_tmp)\n"
   ]
  },
  {
   "cell_type": "code",
   "execution_count": 115,
   "metadata": {},
   "outputs": [
    {
     "name": "stdout",
     "output_type": "stream",
     "text": [
      "Process Time: 1.100390911102295 segundos  - number of files: 196982  - number of results: 1007\n"
     ]
    },
    {
     "data": {
      "text/html": [
       "<div>\n",
       "<style scoped>\n",
       "    .dataframe tbody tr th:only-of-type {\n",
       "        vertical-align: middle;\n",
       "    }\n",
       "\n",
       "    .dataframe tbody tr th {\n",
       "        vertical-align: top;\n",
       "    }\n",
       "\n",
       "    .dataframe thead th {\n",
       "        text-align: right;\n",
       "    }\n",
       "</style>\n",
       "<table border=\"1\" class=\"dataframe\">\n",
       "  <thead>\n",
       "    <tr style=\"text-align: right;\">\n",
       "      <th></th>\n",
       "      <th>title</th>\n",
       "      <th>year</th>\n",
       "      <th>medium</th>\n",
       "      <th>artist_name</th>\n",
       "      <th>tags</th>\n",
       "    </tr>\n",
       "  </thead>\n",
       "  <tbody>\n",
       "    <tr>\n",
       "      <th>0</th>\n",
       "      <td>The Martyrdom of Saint Agnes, her stabbing dea...</td>\n",
       "      <td>1708</td>\n",
       "      <td>Etching and engraving; third state of three</td>\n",
       "      <td>Girard Audran</td>\n",
       "      <td>None</td>\n",
       "    </tr>\n",
       "    <tr>\n",
       "      <th>1</th>\n",
       "      <td>Two Women Romping on a Beach Mat, from 347 Suite</td>\n",
       "      <td>1968</td>\n",
       "      <td>Etching</td>\n",
       "      <td>Pablo Picasso</td>\n",
       "      <td>[Female Nudes]</td>\n",
       "    </tr>\n",
       "    <tr>\n",
       "      <th>2</th>\n",
       "      <td>A man and two women conversing at center; youn...</td>\n",
       "      <td>1668</td>\n",
       "      <td>Etching</td>\n",
       "      <td>Mathäus Küsel</td>\n",
       "      <td>[Buildings, Men, Women, Ships]</td>\n",
       "    </tr>\n",
       "    <tr>\n",
       "      <th>3</th>\n",
       "      <td>Design for a Frieze with a Coat of Arms with a...</td>\n",
       "      <td>1800</td>\n",
       "      <td>Pen and ink and red chalk (partially pricked f...</td>\n",
       "      <td>Anonymous, Italian, 18th century</td>\n",
       "      <td>[Infants, Female Nudes, Serpents]</td>\n",
       "    </tr>\n",
       "    <tr>\n",
       "      <th>4</th>\n",
       "      <td>Odiva, No. 25, Breathing and Swimming, from th...</td>\n",
       "      <td>1913</td>\n",
       "      <td>Commercial color lithograph</td>\n",
       "      <td>Pan Handle Scrap Company</td>\n",
       "      <td>None</td>\n",
       "    </tr>\n",
       "  </tbody>\n",
       "</table>\n",
       "</div>"
      ],
      "text/plain": [
       "                                               title  year  \\\n",
       "0  The Martyrdom of Saint Agnes, her stabbing dea...  1708   \n",
       "1   Two Women Romping on a Beach Mat, from 347 Suite  1968   \n",
       "2  A man and two women conversing at center; youn...  1668   \n",
       "3  Design for a Frieze with a Coat of Arms with a...  1800   \n",
       "4  Odiva, No. 25, Breathing and Swimming, from th...  1913   \n",
       "\n",
       "                                              medium  \\\n",
       "0        Etching and engraving; third state of three   \n",
       "1                                            Etching   \n",
       "2                                            Etching   \n",
       "3  Pen and ink and red chalk (partially pricked f...   \n",
       "4                        Commercial color lithograph   \n",
       "\n",
       "                        artist_name                               tags  \n",
       "0                     Girard Audran                               None  \n",
       "1                     Pablo Picasso                     [Female Nudes]  \n",
       "2                     Mathäus Küsel     [Buildings, Men, Women, Ships]  \n",
       "3  Anonymous, Italian, 18th century  [Infants, Female Nudes, Serpents]  \n",
       "4          Pan Handle Scrap Company                               None  "
      ]
     },
     "execution_count": 115,
     "metadata": {},
     "output_type": "execute_result"
    }
   ],
   "source": [
    "import time\n",
    "\n",
    "# Start the timer\n",
    "start_time = time.time()\n",
    "\n",
    "# Execute the query\n",
    "query = \"\"\"[?( contains(to_lower(title), 'women'))] .{title: title, year: objectEndDate, medium: medium,artist_name: artistDisplayName, tags: tags[*].term}\"\"\"\n",
    "result = jmespath.search(query, data_random_files, options=options)\n",
    "\n",
    "# End the timer\n",
    "end_time = time.time()\n",
    "\n",
    "processing_time = end_time - start_time\n",
    "print(f\"Process Time: {processing_time} seconds\",\" - number of files:\",len(data_random_files), \" - number of results:\",len(result))\n",
    "\n",
    "# Normalize the data\n",
    "normalized_result = pd.json_normalize(result)\n",
    "\n",
    "normalized_result.head(5)"
   ]
  },
  {
   "cell_type": "markdown",
   "metadata": {},
   "source": [
    "> The output shows that processing nearly 197,000 files took approximately 1.10 seconds and returned 1,007 artworks with titles containing the term \"women\"."
   ]
  },
  {
   "cell_type": "markdown",
   "metadata": {},
   "source": [
    "## 🎛️ AWS CLI JSON Querying\n",
    "JMESPath is a query language for JSON, integrated into **AWS CLI**, that lets you filter and transform JSON data directly in the command line. However, while **JMESPath** is excellent for simple queries directly within **AWS CLI**, tools like jq offer extended capabilities for more complex data manipulation.\n",
    "\n",
    "For instance, `jp` is a 🔍command-line tool based on **JMESPath**, which offers a similar query syntax, providing an alternative for filtering **JSON** data quickly. In this tutorial, however, we use `jq` for its advanced formatting and processing capabilities, which are ideal when working with downloaded **JSON **files. \n",
    "\n",
    "In the examples below, we demonstrate how jq can be used alongside **AWS CLI** to handle **JSON** data , enabling us to extract specific elements from API responses and transform them as needed.\n",
    "\n",
    "---\n",
    "\n",
    "### Use Cases\n",
    "\n",
    "#### 🎨 Case 1: Total Artworks in the European Painters Department\n",
    "Validate the number of artworks corresponding to department 9, which is the department for painters and European artists.\n"
   ]
  },
  {
   "cell_type": "code",
   "execution_count": 84,
   "metadata": {},
   "outputs": [
    {
     "name": "stdout",
     "output_type": "stream",
     "text": [
      "\u001b[1;39m{\n",
      "  \u001b[0m\u001b[34;1m\"total_arts\"\u001b[0m\u001b[1;39m: \u001b[0m\u001b[0;39m176075\u001b[0m\u001b[1;39m\n",
      "\u001b[1;39m}\u001b[0m\n"
     ]
    }
   ],
   "source": [
    "!aws s3 cp s3://data-met-api/raw-objects-by-deparments/objects_by_departmentId_9.json - | jq '{total_arts: .total}'"
   ]
  },
  {
   "cell_type": "markdown",
   "metadata": {},
   "source": [
    "\n",
    "#### 🎨 Case 2: Extract Specific Keys from Van Gogh's Artwork\n",
    "In this case, we will revisit a previous exercise where we wanted to extract specific keys from a file. We will take the JSON file corresponding to the artwork of Vincent van Gogh."
   ]
  },
  {
   "cell_type": "code",
   "execution_count": 85,
   "metadata": {},
   "outputs": [
    {
     "name": "stdout",
     "output_type": "stream",
     "text": [
      "\u001b[1;39m{\u001b[0m\u001b[34;1m\"title_name\"\u001b[0m\u001b[1;39m:\u001b[0m\u001b[0;32m\"Self-Portrait with a Straw Hat (obverse: The Potato Peeler)\"\u001b[0m\u001b[1;39m,\u001b[0m\u001b[34;1m\"date\"\u001b[0m\u001b[1;39m:\u001b[0m\u001b[0;39m1887\u001b[0m\u001b[1;39m,\u001b[0m\u001b[34;1m\"artist_name\"\u001b[0m\u001b[1;39m:\u001b[0m\u001b[0;32m\"Vincent van Gogh\"\u001b[0m\u001b[1;39m,\u001b[0m\u001b[34;1m\"tags_name\"\u001b[0m\u001b[1;39m:\u001b[0m\u001b[1;39m[\u001b[0;32m\"Men\"\u001b[0m\u001b[1;39m,\u001b[0;32m\"Self-portraits\"\u001b[0m\u001b[1;39m\u001b[1;39m]\u001b[0m\u001b[1;39m\u001b[1;39m}\u001b[0m\n"
     ]
    }
   ],
   "source": [
    "!aws s3 cp s3://data-met-api/raw-objects/object_id_436532.json - | jq -c '{ title_name: .title, date: .objectBeginDate, artist_name: .constituents[0].name, tags_name: [.tags[].term] }'"
   ]
  },
  {
   "cell_type": "markdown",
   "metadata": {},
   "source": [
    "#### 🎨 Caso 3: Extracting and Filtering Data from Multiple Files\n",
    "To implement one of the more complex cases of iterating through multiple files and filtering data, we will create a shell script. Below, we will generate a script similar to one of the previously solved cases, but we will use a selection query to apply filters.\n",
    "\n",
    "```bash\n",
    "#!/bin/bash\n",
    "bucket_name=\"data-met-api\"\n",
    "path=\"raw-objects\"\n",
    "\n",
    "# List of object IDs\n",
    "ids_objects=(335538 436527 436530 436532 436529 436525 436534 336318 436526 437998 436533 436531 436535 335537 336327 437980 436528 459193 437984 335536 459123 436524 436536 438722)\n",
    "total_objects=${#ids_objects[@]}\n",
    "\n",
    "# Query\n",
    "query=' select(.objectEndDate >= 1888) | {title_name: .title, date: .objectBeginDate, artist_name: .constituents[0].name, tags_name: [.tags[].term] }'\n",
    "json_output=\"\" \n",
    "\n",
    "# Imprimir los IDs de objetos\n",
    "for (( i=0; i<total_objects; i++ )); do\n",
    "    id=${ids_objects[$i]}\n",
    "    # Download the JSON file from S3 and extract the required fields\n",
    "    response=$(aws s3 cp s3://$bucket_name/$path/object_id_$id.json - 2>/dev/null | jq \"$query\")  # Capturar la salida correctamente\n",
    "    \n",
    "    # Validate the json_output variable is empty and add the response \n",
    "    if [ ! -z \"$response\" ]; then\n",
    "        if [ -z \"$json_output\" ]; then\n",
    "            json_output=\"$response\"\n",
    "        else\n",
    "            json_output+=\", $response\"\n",
    "        fi\n",
    "    else\n",
    "        echo \"Warning: No valid data found for ID $id\"\n",
    "    fi\n",
    "\n",
    "    progress=$(( (i + 1) * 100 / total_objects ))\n",
    "    printf \"\\rProgress: [%-50s] %d%%\" \"$(printf '#%.0s' $(seq 1 $((progress / 2))))\" \"$progress\"\n",
    "    \n",
    "done\n",
    "\n",
    "# Create JSON array\n",
    "json_output=\"[$json_output]\"\n",
    "\n",
    "# Create the output.json file\n",
    "echo \"$json_output\" > output.json\n",
    "```"
   ]
  },
  {
   "cell_type": "code",
   "execution_count": 88,
   "metadata": {},
   "outputs": [
    {
     "name": "stdout",
     "output_type": "stream",
     "text": [
      "Warning: No valid data found for ID 335538\n",
      "Progress: [######                                            ] 12%Warning: No valid data found for ID 436532\n",
      "Progress: [######################                            ] 45%Warning: No valid data found for ID 436531\n",
      "Progress: [###################################               ] 70%Warning: No valid data found for ID 459193\n",
      "Progress: [###########################################       ] 87%Warning: No valid data found for ID 436524\n",
      "Progress: [###############################################   ] 95%Warning: No valid data found for ID 438722\n",
      "Progress: [##################################################] 100%"
     ]
    }
   ],
   "source": [
    "!sh s3_script.sh"
   ]
  },
  {
   "cell_type": "code",
   "execution_count": 89,
   "metadata": {},
   "outputs": [
    {
     "name": "stdout",
     "output_type": "stream",
     "text": [
      "[{\n",
      "  \"title_name\": \"The Flowering Orchard\",\n",
      "  \"date\": 1888,\n",
      "  \"artist_name\": \"Vincent van Gogh\",\n",
      "  \"tags_name\": [\n",
      "    \"Trees\"\n",
      "  ]\n",
      "}, {\n",
      "  \"title_name\": \"Oleanders\",\n",
      "  \"date\": 1888,\n",
      "  \"artist_name\": \"Vincent van Gogh\",\n",
      "  \"tags_name\": [\n",
      "    \"Books\",\n",
      "    \"Still Life\",\n",
      "    \"Flowers\"\n",
      "  ]\n",
      "}, {\n",
      "  \"title_name\": \"L'Arlésienne: Madame Joseph-Michel Ginoux (Marie Julien, 1848–1911)\",\n",
      "  \"date\": 1888,\n",
      "  \"artist_name\": \"Vincent van Gogh\",\n",
      "  \"tags_name\": [\n",
      "    \"Books\",\n",
      "    \"Portraits\",\n",
      "    \"Women\"\n",
      "  ]\n",
      "}, {\n",
      "  \"title_name\": \"Bouquet of Flowers in a Vase\",\n",
      "  \"date\": 1890,\n",
      "  \"artist_name\": \"Vincent van Gogh\",\n",
      "  \"tags_name\": [\n",
      "    \"Still Life\",\n",
      "    \"Flowers\"\n",
      "  ]\n",
      "}, {\n",
      "  \"title_name\": \"Roses\",\n",
      "  \"date\": 1890,\n",
      "  \"artist_name\": \"Vincent van Gogh\",\n",
      "  \"tags_name\": [\n",
      "    \"Roses\",\n",
      "    \"Still Life\"\n",
      "  ]\n",
      "}, {\n",
      "  \"title_name\": \"Street in Saintes-Maries-de-la-Mer\",\n",
      "  \"date\": 1888,\n",
      "  \"artist_name\": \"Vincent van Gogh\",\n",
      "  \"tags_name\": [\n",
      "    \"Houses\",\n",
      "    \"Roofs\"\n",
      "  ]\n",
      "}, {\n",
      "  \"title_name\": \"First Steps, after Millet\",\n",
      "  \"date\": 1890,\n",
      "  \"artist_name\": \"Vincent van Gogh\",\n",
      "  \"tags_name\": [\n",
      "    \"Gardens\",\n",
      "    \"Children\",\n",
      "    \"Men\",\n",
      "    \"Women\"\n",
      "  ]\n",
      "}, {\n",
      "  \"title_name\": \"Olive Trees\",\n",
      "  \"date\": 1853,\n",
      "  \"artist_name\": \"Vincent van Gogh\",\n",
      "  \"tags_name\": [\n",
      "    \"Olive Trees\",\n",
      "    \"Landscapes\"\n",
      "  ]\n",
      "}, {\n",
      "  \"title_name\": \"Shoes\",\n",
      "  \"date\": 1888,\n",
      "  \"artist_name\": \"Vincent van Gogh\",\n",
      "  \"tags_name\": [\n",
      "    \"Still Life\",\n",
      "    \"Shoes\"\n",
      "  ]\n",
      "}, {\n",
      "  \"title_name\": \"Wheat Field with Cypresses\",\n",
      "  \"date\": 1889,\n",
      "  \"artist_name\": \"Vincent van Gogh\",\n",
      "  \"tags_name\": [\n",
      "    \"Landscapes\",\n",
      "    \"Cypresses\",\n",
      "    \"Summer\"\n",
      "  ]\n",
      "}, {\n",
      "  \"title_name\": \"Wheat Field\",\n",
      "  \"date\": 1888,\n",
      "  \"artist_name\": \"Vincent van Gogh\",\n",
      "  \"tags_name\": [\n",
      "    \"Landscapes\"\n",
      "  ]\n",
      "}, {\n",
      "  \"title_name\": \"Corridor in the Asylum\",\n",
      "  \"date\": 1889,\n",
      "  \"artist_name\": \"Vincent van Gogh\",\n",
      "  \"tags_name\": [\n",
      "    \"Hospitals\",\n",
      "    \"Interiors\"\n",
      "  ]\n",
      "}, {\n",
      "  \"title_name\": \"Cypresses\",\n",
      "  \"date\": 1889,\n",
      "  \"artist_name\": \"Vincent van Gogh\",\n",
      "  \"tags_name\": [\n",
      "    \"Landscapes\",\n",
      "    \"Cypresses\"\n",
      "  ]\n",
      "}, {\n",
      "  \"title_name\": \"Irises\",\n",
      "  \"date\": 1890,\n",
      "  \"artist_name\": \"Vincent van Gogh\",\n",
      "  \"tags_name\": [\n",
      "    \"Still Life\",\n",
      "    \"Flowers\"\n",
      "  ]\n",
      "}, {\n",
      "  \"title_name\": \"La Berceuse (Woman Rocking a Cradle; Augustine-Alix Pellicot Roulin, 1851–1930)\",\n",
      "  \"date\": 1889,\n",
      "  \"artist_name\": \"Vincent van Gogh\",\n",
      "  \"tags_name\": [\n",
      "    \"Portraits\",\n",
      "    \"Women\",\n",
      "    \"Flowers\"\n",
      "  ]\n",
      "}, {\n",
      "  \"title_name\": \"The Zouave\",\n",
      "  \"date\": 1888,\n",
      "  \"artist_name\": \"Vincent van Gogh\",\n",
      "  \"tags_name\": [\n",
      "    \"Men\",\n",
      "    \"Portraits\",\n",
      "    \"Soldiers\"\n",
      "  ]\n",
      "}, {\n",
      "  \"title_name\": \"Madame Roulin and Her Baby\",\n",
      "  \"date\": 1888,\n",
      "  \"artist_name\": \"Vincent van Gogh\",\n",
      "  \"tags_name\": [\n",
      "    \"Infants\",\n",
      "    \"Portraits\",\n",
      "    \"Mothers\",\n",
      "    \"Women\"\n",
      "  ]\n",
      "}, {\n",
      "  \"title_name\": \"Women Picking Olives\",\n",
      "  \"date\": 1889,\n",
      "  \"artist_name\": \"Vincent van Gogh\",\n",
      "  \"tags_name\": [\n",
      "    \"Women\",\n",
      "    \"Olive Trees\",\n",
      "    \"Ladders\"\n",
      "  ]\n",
      "}]\n"
     ]
    }
   ],
   "source": [
    "!cat output.json"
   ]
  },
  {
   "cell_type": "markdown",
   "metadata": {},
   "source": [
    "# 📚 References\n",
    "* [1] - The Metropolitan Museum of Art Collection API, URL:https://metmuseum.github.io/\n",
    "* [2] - The MET, URL: https://www.metmuseum.org/\n",
    "* [3] - JmesPath Documentation, URL: https://jmespath.org/\n",
    "* [4] - JmesPath Python library, URL: https://github.com/jmespath/jmespath.py\n",
    "* [5] - AWS Command Line Interface: Filtering output in the AWS CLI, URL: https://docs.aws.amazon.com/cli/v1/userguide/cli-usage-filter.html\n",
    "* [6] - Github jp, URL: https://github.com/jmespath/jp\n"
   ]
  }
 ],
 "metadata": {
  "kernelspec": {
   "display_name": "base",
   "language": "python",
   "name": "python3"
  },
  "language_info": {
   "codemirror_mode": {
    "name": "ipython",
    "version": 3
   },
   "file_extension": ".py",
   "mimetype": "text/x-python",
   "name": "python",
   "nbconvert_exporter": "python",
   "pygments_lexer": "ipython3",
   "version": "3.11.5"
  }
 },
 "nbformat": 4,
 "nbformat_minor": 2
}
